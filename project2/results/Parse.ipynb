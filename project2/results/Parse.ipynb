{
 "cells": [
  {
   "cell_type": "code",
   "execution_count": 1,
   "metadata": {},
   "outputs": [],
   "source": [
    "with open('./exec_f.txt', 'r') as f:\n",
    "    exec_f = f.readlines()"
   ]
  },
  {
   "cell_type": "code",
   "execution_count": 2,
   "metadata": {},
   "outputs": [],
   "source": [
    "master_trans_time = []\n",
    "master_file_sizes = []\n",
    "slave_trans_time = []\n",
    "slave_file_sizes = []\n",
    "for line in exec_f:\n",
    "    if 'Master' in line:\n",
    "        elements = line.split(' ')\n",
    "        master_trans_time.append(float(elements[3]))\n",
    "        master_file_sizes.append(int(elements[7]))\n",
    "    if 'Slave' in line:\n",
    "        elements = line.split(' ')\n",
    "        slave_trans_time.append(float(elements[3]))\n",
    "        slave_file_sizes.append(int(elements[7]))"
   ]
  },
  {
   "cell_type": "code",
   "execution_count": 3,
   "metadata": {},
   "outputs": [],
   "source": [
    "import pandas as pd\n",
    "data = {\n",
    "    'Master Transmission Time': master_trans_time,\n",
    "    'Master File Size': master_file_sizes,\n",
    "    'Slave Transmission Time': slave_trans_time,\n",
    "    'Slave File Size': slave_file_sizes,\n",
    "}\n",
    "df = pd.DataFrame(data=data)\n",
    "df.to_csv('./exec_f.csv', index=False)"
   ]
  },
  {
   "cell_type": "code",
   "execution_count": 4,
   "metadata": {},
   "outputs": [],
   "source": [
    "with open('./exec_m.txt', 'r') as f:\n",
    "    exec_m = f.readlines()"
   ]
  },
  {
   "cell_type": "code",
   "execution_count": 5,
   "metadata": {},
   "outputs": [],
   "source": [
    "master_trans_time = []\n",
    "master_file_sizes = []\n",
    "slave_trans_time = []\n",
    "slave_file_sizes = []\n",
    "for line in exec_f:\n",
    "    if 'Master' in line:\n",
    "        elements = line.split(' ')\n",
    "        master_trans_time.append(float(elements[3]))\n",
    "        master_file_sizes.append(int(elements[7]))\n",
    "    if 'Slave' in line:\n",
    "        elements = line.split(' ')\n",
    "        slave_trans_time.append(float(elements[3]))\n",
    "        slave_file_sizes.append(int(elements[7]))"
   ]
  },
  {
   "cell_type": "code",
   "execution_count": 6,
   "metadata": {},
   "outputs": [],
   "source": [
    "import pandas as pd\n",
    "data = {\n",
    "    'Master Transmission Time': master_trans_time,\n",
    "    'Master File Size': master_file_sizes,\n",
    "    'Slave Transmission Time': slave_trans_time,\n",
    "    'Slave File Size': slave_file_sizes,\n",
    "}\n",
    "df = pd.DataFrame(data=data)\n",
    "df.to_csv('./exec_m.csv', index=False)"
   ]
  }
 ],
 "metadata": {
  "kernelspec": {
   "display_name": "Python 3",
   "language": "python",
   "name": "python3"
  },
  "language_info": {
   "codemirror_mode": {
    "name": "ipython",
    "version": 3
   },
   "file_extension": ".py",
   "mimetype": "text/x-python",
   "name": "python",
   "nbconvert_exporter": "python",
   "pygments_lexer": "ipython3",
   "version": "3.7.1"
  }
 },
 "nbformat": 4,
 "nbformat_minor": 2
}
