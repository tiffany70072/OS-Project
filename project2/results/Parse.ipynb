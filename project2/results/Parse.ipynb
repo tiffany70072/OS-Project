{
 "cells": [
  {
   "cell_type": "code",
   "execution_count": 1,
   "metadata": {},
   "outputs": [
    {
     "name": "stdout",
     "output_type": "stream",
     "text": [
      "['.\\\\testrun_f_1.txt', '.\\\\testrun_f_2.txt', '.\\\\testrun_f_3.txt', '.\\\\testrun_f_4.txt', '.\\\\testrun_f_5.txt']\n",
      "['.\\\\testrun_m_1.txt', '.\\\\testrun_m_2.txt', '.\\\\testrun_m_3.txt', '.\\\\testrun_m_4.txt', '.\\\\testrun_m_5.txt']\n"
     ]
    }
   ],
   "source": [
    "from glob import glob\n",
    "testrun_fs = glob('./testrun_f_*.txt')\n",
    "testrun_ms = glob('./testrun_m_*.txt')\n",
    "print(testrun_fs)\n",
    "print(testrun_ms)"
   ]
  },
  {
   "cell_type": "code",
   "execution_count": 2,
   "metadata": {},
   "outputs": [],
   "source": [
    "import pandas as pd\n",
    "for testrun_f in testrun_fs:\n",
    "    with open(testrun_f, 'r') as f:\n",
    "        testrun = f.readlines()\n",
    "    master_trans_time = []\n",
    "    master_file_sizes = []\n",
    "    slave_trans_time = []\n",
    "    slave_file_sizes = []\n",
    "    for line in testrun:\n",
    "        if 'Master' in line:\n",
    "            elements = line.split(' ')\n",
    "            master_trans_time.append(float(elements[3]))\n",
    "            master_file_sizes.append(int(elements[7]))\n",
    "        if 'Slave' in line:\n",
    "            elements = line.split(' ')\n",
    "            slave_trans_time.append(float(elements[3]))\n",
    "            slave_file_sizes.append(int(elements[7]))\n",
    "    \n",
    "    data = {\n",
    "        'Master Transmission Time': master_trans_time,\n",
    "        'Master File Size': master_file_sizes,\n",
    "        'Slave Transmission Time': slave_trans_time,\n",
    "        'Slave File Size': slave_file_sizes,\n",
    "    }\n",
    "    df = pd.DataFrame(data=data)\n",
    "    df.to_csv(testrun_f.replace('txt', 'csv'), index=False)"
   ]
  },
  {
   "cell_type": "code",
   "execution_count": 3,
   "metadata": {},
   "outputs": [],
   "source": [
    "import pandas as pd\n",
    "for testrun_m in testrun_ms:\n",
    "    with open(testrun_m, 'r') as f:\n",
    "        testrun = f.readlines()\n",
    "    master_trans_time = []\n",
    "    master_file_sizes = []\n",
    "    slave_trans_time = []\n",
    "    slave_file_sizes = []\n",
    "    for line in testrun:\n",
    "        if 'Master' in line:\n",
    "            elements = line.split(' ')\n",
    "            master_trans_time.append(float(elements[3]))\n",
    "            master_file_sizes.append(int(elements[7]))\n",
    "        if 'Slave' in line:\n",
    "            elements = line.split(' ')\n",
    "            slave_trans_time.append(float(elements[3]))\n",
    "            slave_file_sizes.append(int(elements[7]))\n",
    "    \n",
    "    data = {\n",
    "        'Master Transmission Time': master_trans_time,\n",
    "        'Master File Size': master_file_sizes,\n",
    "        'Slave Transmission Time': slave_trans_time,\n",
    "        'Slave File Size': slave_file_sizes,\n",
    "    }\n",
    "    df = pd.DataFrame(data=data)\n",
    "    df.to_csv(testrun_m.replace('txt', 'csv'), index=False)"
   ]
  },
  {
   "cell_type": "code",
   "execution_count": 4,
   "metadata": {},
   "outputs": [
    {
     "name": "stdout",
     "output_type": "stream",
     "text": [
      "['.\\\\validrun_f_1.txt', '.\\\\validrun_f_2.txt', '.\\\\validrun_f_3.txt']\n",
      "['.\\\\validrun_m_1.txt', '.\\\\validrun_m_2.txt', '.\\\\validrun_m_3.txt']\n"
     ]
    }
   ],
   "source": [
    "validrun_fs = glob('./validrun_f_*.txt')\n",
    "validrun_ms = glob('./validrun_m_*.txt')\n",
    "print(validrun_fs)\n",
    "print(validrun_ms)"
   ]
  },
  {
   "cell_type": "code",
   "execution_count": 5,
   "metadata": {},
   "outputs": [],
   "source": [
    "import pandas as pd\n",
    "for validrun_f in validrun_fs:\n",
    "    with open(validrun_f, 'r') as f:\n",
    "        validrun = f.readlines()\n",
    "    master_trans_time = []\n",
    "    master_file_sizes = []\n",
    "    slave_trans_time = []\n",
    "    slave_file_sizes = []\n",
    "    for line in validrun:\n",
    "        if 'Master' in line:\n",
    "            elements = line.split(' ')\n",
    "            master_trans_time.append(float(elements[3]))\n",
    "            master_file_sizes.append(int(elements[7]))\n",
    "        if 'Slave' in line:\n",
    "            elements = line.split(' ')\n",
    "            slave_trans_time.append(float(elements[3]))\n",
    "            slave_file_sizes.append(int(elements[7]))\n",
    "    \n",
    "    data = {\n",
    "        'Master Transmission Time': master_trans_time,\n",
    "        'Master File Size': master_file_sizes,\n",
    "        'Slave Transmission Time': slave_trans_time,\n",
    "        'Slave File Size': slave_file_sizes,\n",
    "    }\n",
    "    df = pd.DataFrame(data=data)\n",
    "    df.to_csv(validrun_f.replace('txt', 'csv'), index=False)"
   ]
  },
  {
   "cell_type": "code",
   "execution_count": 6,
   "metadata": {},
   "outputs": [],
   "source": [
    "import pandas as pd\n",
    "for validrun_m in validrun_ms:\n",
    "    with open(validrun_m, 'r') as f:\n",
    "        validrun = f.readlines()\n",
    "    master_trans_time = []\n",
    "    master_file_sizes = []\n",
    "    slave_trans_time = []\n",
    "    slave_file_sizes = []\n",
    "    for line in validrun:\n",
    "        if 'Master' in line:\n",
    "            elements = line.split(' ')\n",
    "            master_trans_time.append(float(elements[3]))\n",
    "            master_file_sizes.append(int(elements[7]))\n",
    "        if 'Slave' in line:\n",
    "            elements = line.split(' ')\n",
    "            slave_trans_time.append(float(elements[3]))\n",
    "            slave_file_sizes.append(int(elements[7]))\n",
    "    \n",
    "    data = {\n",
    "        'Master Transmission Time': master_trans_time,\n",
    "        'Master File Size': master_file_sizes,\n",
    "        'Slave Transmission Time': slave_trans_time,\n",
    "        'Slave File Size': slave_file_sizes,\n",
    "    }\n",
    "    df = pd.DataFrame(data=data)\n",
    "    df.to_csv(validrun_m.replace('txt', 'csv'), index=False)"
   ]
  }
 ],
 "metadata": {
  "kernelspec": {
   "display_name": "Python 3",
   "language": "python",
   "name": "python3"
  },
  "language_info": {
   "codemirror_mode": {
    "name": "ipython",
    "version": 3
   },
   "file_extension": ".py",
   "mimetype": "text/x-python",
   "name": "python",
   "nbconvert_exporter": "python",
   "pygments_lexer": "ipython3",
   "version": "3.7.1"
  }
 },
 "nbformat": 4,
 "nbformat_minor": 2
}
